{
 "cells": [
  {
   "metadata": {},
   "cell_type": "markdown",
   "source": "# IAM Role Creation for Bedrock Custom Model Training",
   "id": "c966b32f82dd4a76"
  },
  {
   "metadata": {},
   "cell_type": "raw",
   "source": "",
   "id": "52d846b9706d8463",
   "outputs": null,
   "execution_count": null
  },
  {
   "metadata": {
    "ExecuteTime": {
     "end_time": "2025-09-13T14:25:02.666694Z",
     "start_time": "2025-09-13T14:25:01.827267Z"
    }
   },
   "cell_type": "code",
   "source": "%pip install --upgrade boto3 botocore",
   "id": "63d49be9f9574ff9",
   "outputs": [
    {
     "name": "stdout",
     "output_type": "stream",
     "text": [
      "Requirement already satisfied: boto3 in ./venv/lib/python3.13/site-packages (1.40.30)\r\n",
      "Requirement already satisfied: botocore in ./venv/lib/python3.13/site-packages (1.40.30)\r\n",
      "Requirement already satisfied: jmespath<2.0.0,>=0.7.1 in ./venv/lib/python3.13/site-packages (from boto3) (1.0.1)\r\n",
      "Requirement already satisfied: s3transfer<0.15.0,>=0.14.0 in ./venv/lib/python3.13/site-packages (from boto3) (0.14.0)\r\n",
      "Requirement already satisfied: python-dateutil<3.0.0,>=2.1 in ./venv/lib/python3.13/site-packages (from botocore) (2.9.0.post0)\r\n",
      "Requirement already satisfied: urllib3!=2.2.0,<3,>=1.25.4 in ./venv/lib/python3.13/site-packages (from botocore) (1.26.20)\r\n",
      "Requirement already satisfied: six>=1.5 in ./venv/lib/python3.13/site-packages (from python-dateutil<3.0.0,>=2.1->botocore) (1.17.0)\r\n",
      "\r\n",
      "\u001B[1m[\u001B[0m\u001B[34;49mnotice\u001B[0m\u001B[1;39;49m]\u001B[0m\u001B[39;49m A new release of pip is available: \u001B[0m\u001B[31;49m24.3.1\u001B[0m\u001B[39;49m -> \u001B[0m\u001B[32;49m25.2\u001B[0m\r\n",
      "\u001B[1m[\u001B[0m\u001B[34;49mnotice\u001B[0m\u001B[1;39;49m]\u001B[0m\u001B[39;49m To update, run: \u001B[0m\u001B[32;49m/Users/mihirkurdekar/PycharmProjects/model fine tuning/venv/bin/python -m pip install --upgrade pip\u001B[0m\r\n",
      "Note: you may need to restart the kernel to use updated packages.\n"
     ]
    }
   ],
   "execution_count": 1
  },
  {
   "metadata": {
    "ExecuteTime": {
     "end_time": "2025-09-13T15:22:22.795933Z",
     "start_time": "2025-09-13T15:22:06.072187Z"
    }
   },
   "cell_type": "code",
   "source": [
    "import boto3\n",
    "import json\n",
    "\n",
    "iam = boto3.client(\"iam\")\n",
    "\n",
    "role_name = \"BedrockCustomizationRole\"\n",
    "assume_role_policy = {\n",
    "    \"Version\": \"2012-10-17\",\n",
    "    \"Statement\": [\n",
    "        {\n",
    "            \"Effect\": \"Allow\",\n",
    "            \"Principal\": {\"Service\": \"bedrock.amazonaws.com\"},\n",
    "            \"Action\": \"sts:AssumeRole\"\n",
    "        }\n",
    "    ]\n",
    "}\n",
    "\n",
    "# Create IAM role\n",
    "try:\n",
    "    response = iam.create_role(\n",
    "        RoleName=role_name,\n",
    "        AssumeRolePolicyDocument=json.dumps(assume_role_policy),\n",
    "        Description=\"Role for Bedrock custom model training\"\n",
    "    )\n",
    "    print(f\"Role '{role_name}' created: {response['Role']['Arn']}\")\n",
    "except iam.exceptions.EntityAlreadyExistsException:\n",
    "    print(f\"Role '{role_name}' already exists.\")\n",
    "\n",
    "invoke_berock_model_policy = {\n",
    "    \"Version\": \"2012-10-17\",\n",
    "    \"Statement\": [\n",
    "        {\n",
    "            \"Effect\": \"Allow\",\n",
    "            \"Action\": [\n",
    "                \"bedrock:InvokeModel\",\n",
    "                \"bedrock:CreateModelCustomizationJob\",\n",
    "                \"bedrock:DescribeModelCustomizationJob\",\n",
    "                \"bedrock:ListModelCustomizationJobs\"\n",
    "            ],\n",
    "            \"Resource\": \"*\"\n",
    "        }\n",
    "    ]\n",
    "}\n",
    "# Attach Bedrock access policy\n",
    "iam.put_role_policy(\n",
    "    RoleName=role_name,\n",
    "    PolicyName=\"BedrockAccessPolicy\",\n",
    "    PolicyDocument=json.dumps(invoke_berock_model_policy)\n",
    ")\n",
    "print(f\"Attached Bedrock access policy to '{role_name}'\")\n",
    "\n",
    "# Attach S3 access policy\n",
    "policy_arn = \"arn:aws:iam::aws:policy/AmazonS3FullAccess\"\n",
    "iam.attach_role_policy(RoleName=role_name, PolicyArn=policy_arn)\n",
    "print(f\"Attached AmazonS3FullAccess policy to '{role_name}'\")\n"
   ],
   "id": "bec6288b38f4d3e9",
   "outputs": [
    {
     "name": "stdout",
     "output_type": "stream",
     "text": [
      "Role 'BedrockCustomizationRole' created: arn:aws:iam::288826684505:role/BedrockCustomizationRole\n",
      "Attached AmazonS3FullAccess policy to 'BedrockCustomizationRole'\n"
     ]
    }
   ],
   "execution_count": 1
  },
  {
   "metadata": {},
   "cell_type": "markdown",
   "source": "# Upload Training Data to S3",
   "id": "5db1717813eebf94"
  },
  {
   "metadata": {
    "ExecuteTime": {
     "end_time": "2025-09-13T16:03:19.716981Z",
     "start_time": "2025-09-13T16:03:17.999301Z"
    }
   },
   "cell_type": "code",
   "source": [
    "bucket_name = \"bedrock-training-bucket-mk-123456\"  # Ensure this bucket name is globally unique\n",
    "region = \"us-east-1\"\n",
    "local_file = \"./data/sample_training_data.jsonl\"\n",
    "s3_key = \"sample_training_data.jsonl\"\n",
    "\n",
    "# Create S3 bucket\n",
    "s3 = boto3.client(\"s3\", region_name=region)\n",
    "try:\n",
    "    s3.create_bucket(\n",
    "        Bucket=bucket_name\n",
    "    )\n",
    "    print(f\"Bucket '{bucket_name}' created.\")\n",
    "except s3.exceptions.BucketAlreadyExists:\n",
    "    print(f\"Bucket '{bucket_name}' already exists.\")\n",
    "\n",
    "# Upload training data\n",
    "s3.upload_file(local_file, bucket_name, s3_key)\n",
    "print(f\"Uploaded {local_file} to s3://{bucket_name}/{s3_key}\")\n"
   ],
   "id": "1ed7f9cc2664233d",
   "outputs": [
    {
     "name": "stdout",
     "output_type": "stream",
     "text": [
      "Bucket 'bedrock-training-bucket-mk-123456' created.\n",
      "Uploaded ./data/sample_training_data.jsonl to s3://bedrock-training-bucket-mk-123456/sample_training_data.jsonl\n"
     ]
    }
   ],
   "execution_count": 21
  },
  {
   "metadata": {},
   "cell_type": "markdown",
   "source": "# Custom Model Training with Bedrock",
   "id": "c96355f6f72f0988"
  },
  {
   "metadata": {
    "ExecuteTime": {
     "end_time": "2025-09-13T15:22:41.465601Z",
     "start_time": "2025-09-13T15:22:41.463521Z"
    }
   },
   "cell_type": "code",
   "source": [
    "# Check available services\n",
    "#print(boto3.session.Session().get_available_services())"
   ],
   "id": "6d00e51bc85bf968",
   "outputs": [],
   "execution_count": 3
  },
  {
   "metadata": {
    "ExecuteTime": {
     "end_time": "2025-09-13T15:57:34.625212Z",
     "start_time": "2025-09-13T15:57:32.434564Z"
    }
   },
   "cell_type": "code",
   "source": [
    "\n",
    "bedrock = boto3.client(\"bedrock\", region_name=\"us-east-1\")\n",
    "response = bedrock.list_foundation_models()\n",
    "for model in response[\"modelSummaries\"]:\n",
    "    # Filter for models that support customization\n",
    "    print(model[\"modelId\"], model[\"modelArn\"], \"\\n\")\n"
   ],
   "id": "5be741ed12913fd8",
   "outputs": [
    {
     "name": "stdout",
     "output_type": "stream",
     "text": [
      "twelvelabs.marengo-embed-2-7-v1:0 arn:aws:bedrock:us-east-1::foundation-model/twelvelabs.marengo-embed-2-7-v1:0 \n",
      "\n",
      "anthropic.claude-sonnet-4-20250514-v1:0 arn:aws:bedrock:us-east-1::foundation-model/anthropic.claude-sonnet-4-20250514-v1:0 \n",
      "\n",
      "twelvelabs.pegasus-1-2-v1:0 arn:aws:bedrock:us-east-1::foundation-model/twelvelabs.pegasus-1-2-v1:0 \n",
      "\n",
      "anthropic.claude-opus-4-1-20250805-v1:0 arn:aws:bedrock:us-east-1::foundation-model/anthropic.claude-opus-4-1-20250805-v1:0 \n",
      "\n",
      "amazon.titan-tg1-large arn:aws:bedrock:us-east-1::foundation-model/amazon.titan-tg1-large \n",
      "\n",
      "amazon.titan-image-generator-v1:0 arn:aws:bedrock:us-east-1::foundation-model/amazon.titan-image-generator-v1:0 \n",
      "\n",
      "amazon.titan-image-generator-v1 arn:aws:bedrock:us-east-1::foundation-model/amazon.titan-image-generator-v1 \n",
      "\n",
      "amazon.titan-image-generator-v2:0 arn:aws:bedrock:us-east-1::foundation-model/amazon.titan-image-generator-v2:0 \n",
      "\n",
      "amazon.nova-premier-v1:0:8k arn:aws:bedrock:us-east-1::foundation-model/amazon.nova-premier-v1:0:8k \n",
      "\n",
      "amazon.nova-premier-v1:0:20k arn:aws:bedrock:us-east-1::foundation-model/amazon.nova-premier-v1:0:20k \n",
      "\n",
      "amazon.nova-premier-v1:0:1000k arn:aws:bedrock:us-east-1::foundation-model/amazon.nova-premier-v1:0:1000k \n",
      "\n",
      "amazon.nova-premier-v1:0:mm arn:aws:bedrock:us-east-1::foundation-model/amazon.nova-premier-v1:0:mm \n",
      "\n",
      "amazon.nova-premier-v1:0 arn:aws:bedrock:us-east-1::foundation-model/amazon.nova-premier-v1:0 \n",
      "\n",
      "amazon.titan-text-premier-v1:0 arn:aws:bedrock:us-east-1::foundation-model/amazon.titan-text-premier-v1:0 \n",
      "\n",
      "amazon.nova-pro-v1:0:24k arn:aws:bedrock:us-east-1::foundation-model/amazon.nova-pro-v1:0:24k \n",
      "\n",
      "amazon.nova-pro-v1:0:300k arn:aws:bedrock:us-east-1::foundation-model/amazon.nova-pro-v1:0:300k \n",
      "\n",
      "amazon.nova-pro-v1:0 arn:aws:bedrock:us-east-1::foundation-model/amazon.nova-pro-v1:0 \n",
      "\n",
      "amazon.nova-lite-v1:0:24k arn:aws:bedrock:us-east-1::foundation-model/amazon.nova-lite-v1:0:24k \n",
      "\n",
      "amazon.nova-lite-v1:0:300k arn:aws:bedrock:us-east-1::foundation-model/amazon.nova-lite-v1:0:300k \n",
      "\n",
      "amazon.nova-lite-v1:0 arn:aws:bedrock:us-east-1::foundation-model/amazon.nova-lite-v1:0 \n",
      "\n",
      "amazon.nova-canvas-v1:0 arn:aws:bedrock:us-east-1::foundation-model/amazon.nova-canvas-v1:0 \n",
      "\n",
      "amazon.nova-reel-v1:0 arn:aws:bedrock:us-east-1::foundation-model/amazon.nova-reel-v1:0 \n",
      "\n",
      "amazon.nova-reel-v1:1 arn:aws:bedrock:us-east-1::foundation-model/amazon.nova-reel-v1:1 \n",
      "\n",
      "amazon.nova-micro-v1:0:24k arn:aws:bedrock:us-east-1::foundation-model/amazon.nova-micro-v1:0:24k \n",
      "\n",
      "amazon.nova-micro-v1:0:128k arn:aws:bedrock:us-east-1::foundation-model/amazon.nova-micro-v1:0:128k \n",
      "\n",
      "amazon.nova-micro-v1:0 arn:aws:bedrock:us-east-1::foundation-model/amazon.nova-micro-v1:0 \n",
      "\n",
      "amazon.nova-sonic-v1:0 arn:aws:bedrock:us-east-1::foundation-model/amazon.nova-sonic-v1:0 \n",
      "\n",
      "amazon.titan-embed-g1-text-02 arn:aws:bedrock:us-east-1::foundation-model/amazon.titan-embed-g1-text-02 \n",
      "\n",
      "amazon.titan-text-lite-v1:0:4k arn:aws:bedrock:us-east-1::foundation-model/amazon.titan-text-lite-v1:0:4k \n",
      "\n",
      "amazon.titan-text-lite-v1 arn:aws:bedrock:us-east-1::foundation-model/amazon.titan-text-lite-v1 \n",
      "\n",
      "amazon.titan-text-express-v1:0:8k arn:aws:bedrock:us-east-1::foundation-model/amazon.titan-text-express-v1:0:8k \n",
      "\n",
      "amazon.titan-text-express-v1 arn:aws:bedrock:us-east-1::foundation-model/amazon.titan-text-express-v1 \n",
      "\n",
      "amazon.titan-embed-text-v1:2:8k arn:aws:bedrock:us-east-1::foundation-model/amazon.titan-embed-text-v1:2:8k \n",
      "\n",
      "amazon.titan-embed-text-v1 arn:aws:bedrock:us-east-1::foundation-model/amazon.titan-embed-text-v1 \n",
      "\n",
      "amazon.titan-embed-text-v2:0:8k arn:aws:bedrock:us-east-1::foundation-model/amazon.titan-embed-text-v2:0:8k \n",
      "\n",
      "amazon.titan-embed-text-v2:0 arn:aws:bedrock:us-east-1::foundation-model/amazon.titan-embed-text-v2:0 \n",
      "\n",
      "amazon.titan-embed-image-v1:0 arn:aws:bedrock:us-east-1::foundation-model/amazon.titan-embed-image-v1:0 \n",
      "\n",
      "amazon.titan-embed-image-v1 arn:aws:bedrock:us-east-1::foundation-model/amazon.titan-embed-image-v1 \n",
      "\n",
      "stability.stable-diffusion-xl-v1:0 arn:aws:bedrock:us-east-1::foundation-model/stability.stable-diffusion-xl-v1:0 \n",
      "\n",
      "stability.stable-diffusion-xl-v1 arn:aws:bedrock:us-east-1::foundation-model/stability.stable-diffusion-xl-v1 \n",
      "\n",
      "ai21.jamba-1-5-large-v1:0 arn:aws:bedrock:us-east-1::foundation-model/ai21.jamba-1-5-large-v1:0 \n",
      "\n",
      "ai21.jamba-1-5-mini-v1:0 arn:aws:bedrock:us-east-1::foundation-model/ai21.jamba-1-5-mini-v1:0 \n",
      "\n",
      "anthropic.claude-instant-v1:2:100k arn:aws:bedrock:us-east-1::foundation-model/anthropic.claude-instant-v1:2:100k \n",
      "\n",
      "anthropic.claude-v2:0:18k arn:aws:bedrock:us-east-1::foundation-model/anthropic.claude-v2:0:18k \n",
      "\n",
      "anthropic.claude-v2:0:100k arn:aws:bedrock:us-east-1::foundation-model/anthropic.claude-v2:0:100k \n",
      "\n",
      "anthropic.claude-v2:1:18k arn:aws:bedrock:us-east-1::foundation-model/anthropic.claude-v2:1:18k \n",
      "\n",
      "anthropic.claude-v2:1:200k arn:aws:bedrock:us-east-1::foundation-model/anthropic.claude-v2:1:200k \n",
      "\n",
      "anthropic.claude-3-sonnet-20240229-v1:0:28k arn:aws:bedrock:us-east-1::foundation-model/anthropic.claude-3-sonnet-20240229-v1:0:28k \n",
      "\n",
      "anthropic.claude-3-sonnet-20240229-v1:0:200k arn:aws:bedrock:us-east-1::foundation-model/anthropic.claude-3-sonnet-20240229-v1:0:200k \n",
      "\n",
      "anthropic.claude-3-sonnet-20240229-v1:0 arn:aws:bedrock:us-east-1::foundation-model/anthropic.claude-3-sonnet-20240229-v1:0 \n",
      "\n",
      "anthropic.claude-3-haiku-20240307-v1:0:48k arn:aws:bedrock:us-east-1::foundation-model/anthropic.claude-3-haiku-20240307-v1:0:48k \n",
      "\n",
      "anthropic.claude-3-haiku-20240307-v1:0:200k arn:aws:bedrock:us-east-1::foundation-model/anthropic.claude-3-haiku-20240307-v1:0:200k \n",
      "\n",
      "anthropic.claude-3-haiku-20240307-v1:0 arn:aws:bedrock:us-east-1::foundation-model/anthropic.claude-3-haiku-20240307-v1:0 \n",
      "\n",
      "anthropic.claude-3-opus-20240229-v1:0:12k arn:aws:bedrock:us-east-1::foundation-model/anthropic.claude-3-opus-20240229-v1:0:12k \n",
      "\n",
      "anthropic.claude-3-opus-20240229-v1:0:28k arn:aws:bedrock:us-east-1::foundation-model/anthropic.claude-3-opus-20240229-v1:0:28k \n",
      "\n",
      "anthropic.claude-3-opus-20240229-v1:0:200k arn:aws:bedrock:us-east-1::foundation-model/anthropic.claude-3-opus-20240229-v1:0:200k \n",
      "\n",
      "anthropic.claude-3-opus-20240229-v1:0 arn:aws:bedrock:us-east-1::foundation-model/anthropic.claude-3-opus-20240229-v1:0 \n",
      "\n",
      "anthropic.claude-3-5-sonnet-20240620-v1:0 arn:aws:bedrock:us-east-1::foundation-model/anthropic.claude-3-5-sonnet-20240620-v1:0 \n",
      "\n",
      "anthropic.claude-3-5-sonnet-20241022-v2:0 arn:aws:bedrock:us-east-1::foundation-model/anthropic.claude-3-5-sonnet-20241022-v2:0 \n",
      "\n",
      "anthropic.claude-3-7-sonnet-20250219-v1:0 arn:aws:bedrock:us-east-1::foundation-model/anthropic.claude-3-7-sonnet-20250219-v1:0 \n",
      "\n",
      "anthropic.claude-3-5-haiku-20241022-v1:0 arn:aws:bedrock:us-east-1::foundation-model/anthropic.claude-3-5-haiku-20241022-v1:0 \n",
      "\n",
      "anthropic.claude-opus-4-20250514-v1:0 arn:aws:bedrock:us-east-1::foundation-model/anthropic.claude-opus-4-20250514-v1:0 \n",
      "\n",
      "cohere.command-r-v1:0 arn:aws:bedrock:us-east-1::foundation-model/cohere.command-r-v1:0 \n",
      "\n",
      "cohere.command-r-plus-v1:0 arn:aws:bedrock:us-east-1::foundation-model/cohere.command-r-plus-v1:0 \n",
      "\n",
      "cohere.embed-english-v3:0:512 arn:aws:bedrock:us-east-1::foundation-model/cohere.embed-english-v3:0:512 \n",
      "\n",
      "cohere.embed-english-v3 arn:aws:bedrock:us-east-1::foundation-model/cohere.embed-english-v3 \n",
      "\n",
      "cohere.embed-multilingual-v3:0:512 arn:aws:bedrock:us-east-1::foundation-model/cohere.embed-multilingual-v3:0:512 \n",
      "\n",
      "cohere.embed-multilingual-v3 arn:aws:bedrock:us-east-1::foundation-model/cohere.embed-multilingual-v3 \n",
      "\n",
      "deepseek.r1-v1:0 arn:aws:bedrock:us-east-1::foundation-model/deepseek.r1-v1:0 \n",
      "\n",
      "meta.llama3-8b-instruct-v1:0 arn:aws:bedrock:us-east-1::foundation-model/meta.llama3-8b-instruct-v1:0 \n",
      "\n",
      "meta.llama3-70b-instruct-v1:0 arn:aws:bedrock:us-east-1::foundation-model/meta.llama3-70b-instruct-v1:0 \n",
      "\n",
      "meta.llama3-1-8b-instruct-v1:0 arn:aws:bedrock:us-east-1::foundation-model/meta.llama3-1-8b-instruct-v1:0 \n",
      "\n",
      "meta.llama3-1-70b-instruct-v1:0 arn:aws:bedrock:us-east-1::foundation-model/meta.llama3-1-70b-instruct-v1:0 \n",
      "\n",
      "meta.llama3-2-11b-instruct-v1:0 arn:aws:bedrock:us-east-1::foundation-model/meta.llama3-2-11b-instruct-v1:0 \n",
      "\n",
      "meta.llama3-2-90b-instruct-v1:0 arn:aws:bedrock:us-east-1::foundation-model/meta.llama3-2-90b-instruct-v1:0 \n",
      "\n",
      "meta.llama3-2-1b-instruct-v1:0 arn:aws:bedrock:us-east-1::foundation-model/meta.llama3-2-1b-instruct-v1:0 \n",
      "\n",
      "meta.llama3-2-3b-instruct-v1:0 arn:aws:bedrock:us-east-1::foundation-model/meta.llama3-2-3b-instruct-v1:0 \n",
      "\n",
      "meta.llama3-3-70b-instruct-v1:0 arn:aws:bedrock:us-east-1::foundation-model/meta.llama3-3-70b-instruct-v1:0 \n",
      "\n",
      "meta.llama4-scout-17b-instruct-v1:0 arn:aws:bedrock:us-east-1::foundation-model/meta.llama4-scout-17b-instruct-v1:0 \n",
      "\n",
      "meta.llama4-maverick-17b-instruct-v1:0 arn:aws:bedrock:us-east-1::foundation-model/meta.llama4-maverick-17b-instruct-v1:0 \n",
      "\n",
      "mistral.mistral-7b-instruct-v0:2 arn:aws:bedrock:us-east-1::foundation-model/mistral.mistral-7b-instruct-v0:2 \n",
      "\n",
      "mistral.mixtral-8x7b-instruct-v0:1 arn:aws:bedrock:us-east-1::foundation-model/mistral.mixtral-8x7b-instruct-v0:1 \n",
      "\n",
      "mistral.mistral-large-2402-v1:0 arn:aws:bedrock:us-east-1::foundation-model/mistral.mistral-large-2402-v1:0 \n",
      "\n",
      "mistral.mistral-small-2402-v1:0 arn:aws:bedrock:us-east-1::foundation-model/mistral.mistral-small-2402-v1:0 \n",
      "\n",
      "mistral.pixtral-large-2502-v1:0 arn:aws:bedrock:us-east-1::foundation-model/mistral.pixtral-large-2502-v1:0 \n",
      "\n"
     ]
    }
   ],
   "execution_count": 19
  },
  {
   "metadata": {
    "ExecuteTime": {
     "end_time": "2025-09-13T16:54:22.372790Z",
     "start_time": "2025-09-13T16:54:17.761034Z"
    }
   },
   "cell_type": "code",
   "source": [
    "# Start a custom model training job using Bedrock\n",
    "bedrock = boto3.client(\"bedrock\", region_name=\"us-east-1\")\n",
    "training_job_response = bedrock.create_model_customization_job(\n",
    "    jobName=\"my-custom-model-job-3\",\n",
    "    customModelName=\"my-custom-model\",\n",
    "    roleArn=\"arn:aws:iam::288826684505:role/BedrockCustomizationRole\",  # Update with your IAM role ARN\n",
    "    baseModelIdentifier=\"arn:aws:bedrock:us-east-1::foundation-model/amazon.titan-text-express-v1:0:8k\",  # Example base model ARN\n",
    "    trainingDataConfig={\n",
    "        \"s3Uri\": \"s3://bedrock-training-bucket-mk-123456/sample_training_data.jsonl\"  # Update with your S3 URI\n",
    "    },\n",
    "    outputDataConfig={\n",
    "        \"s3Uri\": \"s3://bedrock-training-bucket-mk-123456/output\"  # Update with your S3 URI\n",
    "    },\n",
    "    hyperParameters={\n",
    "        \"learningRate\": \"5e-5\",\n",
    "        \"batchSize\": \"1\"\n",
    "    }\n",
    ")\n",
    "print(\"Training job started:\", training_job_response['jobArn'])\n"
   ],
   "id": "6620a19a6231f386",
   "outputs": [
    {
     "name": "stdout",
     "output_type": "stream",
     "text": [
      "Training job started: arn:aws:bedrock:us-east-1:288826684505:model-customization-job/amazon.titan-text-express-v1:0:8k/8f28q1gn6zdc\n"
     ]
    }
   ],
   "execution_count": 34
  },
  {
   "metadata": {
    "jupyter": {
     "is_executing": true
    },
    "ExecuteTime": {
     "start_time": "2025-09-13T18:46:22.205197Z"
    }
   },
   "cell_type": "code",
   "source": [
    "# track training job status\n",
    "import time\n",
    "job_arn = training_job_response['jobArn']\n",
    "job_arn\n",
    "while True:\n",
    "    job_status_response = bedrock.get_model_customization_job(\n",
    "        jobIdentifier=job_arn,\n",
    "    )\n",
    "    job_status = job_status_response['status']\n",
    "    print(f\"Job status: {job_status}\")\n",
    "    if job_status != \"InProgress\":\n",
    "        break\n",
    "    time.sleep(60)  # Wait for 1 minute before checking again"
   ],
   "id": "8d84b860b6dfe646",
   "outputs": [
    {
     "name": "stdout",
     "output_type": "stream",
     "text": [
      "Job status: InProgress\n",
      "Job status: InProgress\n",
      "Job status: InProgress\n"
     ]
    }
   ],
   "execution_count": null
  },
  {
   "metadata": {},
   "cell_type": "markdown",
   "source": "# Inference with Custom Model",
   "id": "bf30fb95bb99dc15"
  },
  {
   "metadata": {},
   "cell_type": "code",
   "outputs": [],
   "execution_count": null,
   "source": [
    "import boto3\n",
    "import json\n",
    "\n",
    "# Run inference using your trained custom model\n",
    "bedrock_runtime = boto3.client(\"bedrock-runtime\", region_name=\"us-east-1\")\n",
    "custom_model_id = \"{your_custom_model_id}\"  # Replace with your custom model ID\n",
    "example_prompt = \"Classify the following review as positive or negative: 'The product was disappointing.'\"\n",
    "response = bedrock_runtime.invoke_model(\n",
    "    modelId=custom_model_id,\n",
    "    contentType=\"application/json\",\n",
    "    accept=\"application/json\",\n",
    "    body=json.dumps({\n",
    "        \"prompt\": example_prompt,\n",
    "        \"max_tokens_to_sample\": 50\n",
    "    })\n",
    ")\n",
    "print(\"Custom model inference result:\", response['body'].read().decode())\n"
   ],
   "id": "dfb85346020f7ba3"
  },
  {
   "metadata": {},
   "cell_type": "markdown",
   "source": "# Clean Up Resources",
   "id": "65f631fd72c19e2c"
  },
  {
   "metadata": {
    "ExecuteTime": {
     "end_time": "2025-09-13T15:15:19.167163Z",
     "start_time": "2025-09-13T15:15:17.061549Z"
    }
   },
   "cell_type": "code",
   "source": [
    "# clean up roles\n",
    "policies = iam.list_role_policies(RoleName=role_name)\n",
    "for policy_name in policies['PolicyNames']:\n",
    "    iam.delete_role_policy(RoleName=role_name, PolicyName=policy_name)\n",
    "iam.delete_role(RoleName=role_name)\n",
    "print(f\"Deleted role '{role_name}' and detached policies.\")"
   ],
   "id": "1fc208dd2c59116c",
   "outputs": [
    {
     "ename": "NoSuchEntityException",
     "evalue": "An error occurred (NoSuchEntity) when calling the DetachRolePolicy operation: The role with name BedrockCustomizationRole cannot be found.",
     "output_type": "error",
     "traceback": [
      "\u001B[31m---------------------------------------------------------------------------\u001B[39m",
      "\u001B[31mNoSuchEntityException\u001B[39m                     Traceback (most recent call last)",
      "\u001B[36mCell\u001B[39m\u001B[36m \u001B[39m\u001B[32mIn[28]\u001B[39m\u001B[32m, line 2\u001B[39m\n\u001B[32m      1\u001B[39m \u001B[38;5;66;03m# clean up roles\u001B[39;00m\n\u001B[32m----> \u001B[39m\u001B[32m2\u001B[39m \u001B[43miam\u001B[49m\u001B[43m.\u001B[49m\u001B[43mdetach_role_policy\u001B[49m\u001B[43m(\u001B[49m\u001B[43mRoleName\u001B[49m\u001B[43m=\u001B[49m\u001B[43mrole_name\u001B[49m\u001B[43m,\u001B[49m\u001B[43m \u001B[49m\u001B[43mPolicyArn\u001B[49m\u001B[43m=\u001B[49m\u001B[43mpolicy_arn\u001B[49m\u001B[43m)\u001B[49m\n\u001B[32m      3\u001B[39m iam.delete_role(RoleName=role_name)\n\u001B[32m      4\u001B[39m \u001B[38;5;28mprint\u001B[39m(\u001B[33mf\u001B[39m\u001B[33m\"\u001B[39m\u001B[33mDeleted role \u001B[39m\u001B[33m'\u001B[39m\u001B[38;5;132;01m{\u001B[39;00mrole_name\u001B[38;5;132;01m}\u001B[39;00m\u001B[33m'\u001B[39m\u001B[33m and detached policies.\u001B[39m\u001B[33m\"\u001B[39m)\n",
      "\u001B[36mFile \u001B[39m\u001B[32m~/PycharmProjects/model fine tuning/venv/lib/python3.13/site-packages/botocore/client.py:602\u001B[39m, in \u001B[36mClientCreator._create_api_method.<locals>._api_call\u001B[39m\u001B[34m(self, *args, **kwargs)\u001B[39m\n\u001B[32m    598\u001B[39m     \u001B[38;5;28;01mraise\u001B[39;00m \u001B[38;5;167;01mTypeError\u001B[39;00m(\n\u001B[32m    599\u001B[39m         \u001B[33mf\u001B[39m\u001B[33m\"\u001B[39m\u001B[38;5;132;01m{\u001B[39;00mpy_operation_name\u001B[38;5;132;01m}\u001B[39;00m\u001B[33m() only accepts keyword arguments.\u001B[39m\u001B[33m\"\u001B[39m\n\u001B[32m    600\u001B[39m     )\n\u001B[32m    601\u001B[39m \u001B[38;5;66;03m# The \"self\" in this scope is referring to the BaseClient.\u001B[39;00m\n\u001B[32m--> \u001B[39m\u001B[32m602\u001B[39m \u001B[38;5;28;01mreturn\u001B[39;00m \u001B[38;5;28;43mself\u001B[39;49m\u001B[43m.\u001B[49m\u001B[43m_make_api_call\u001B[49m\u001B[43m(\u001B[49m\u001B[43moperation_name\u001B[49m\u001B[43m,\u001B[49m\u001B[43m \u001B[49m\u001B[43mkwargs\u001B[49m\u001B[43m)\u001B[49m\n",
      "\u001B[36mFile \u001B[39m\u001B[32m~/PycharmProjects/model fine tuning/venv/lib/python3.13/site-packages/botocore/context.py:123\u001B[39m, in \u001B[36mwith_current_context.<locals>.decorator.<locals>.wrapper\u001B[39m\u001B[34m(*args, **kwargs)\u001B[39m\n\u001B[32m    121\u001B[39m \u001B[38;5;28;01mif\u001B[39;00m hook:\n\u001B[32m    122\u001B[39m     hook()\n\u001B[32m--> \u001B[39m\u001B[32m123\u001B[39m \u001B[38;5;28;01mreturn\u001B[39;00m \u001B[43mfunc\u001B[49m\u001B[43m(\u001B[49m\u001B[43m*\u001B[49m\u001B[43margs\u001B[49m\u001B[43m,\u001B[49m\u001B[43m \u001B[49m\u001B[43m*\u001B[49m\u001B[43m*\u001B[49m\u001B[43mkwargs\u001B[49m\u001B[43m)\u001B[49m\n",
      "\u001B[36mFile \u001B[39m\u001B[32m~/PycharmProjects/model fine tuning/venv/lib/python3.13/site-packages/botocore/client.py:1078\u001B[39m, in \u001B[36mBaseClient._make_api_call\u001B[39m\u001B[34m(self, operation_name, api_params)\u001B[39m\n\u001B[32m   1074\u001B[39m     error_code = request_context.get(\n\u001B[32m   1075\u001B[39m         \u001B[33m'\u001B[39m\u001B[33merror_code_override\u001B[39m\u001B[33m'\u001B[39m\n\u001B[32m   1076\u001B[39m     ) \u001B[38;5;129;01mor\u001B[39;00m error_info.get(\u001B[33m\"\u001B[39m\u001B[33mCode\u001B[39m\u001B[33m\"\u001B[39m)\n\u001B[32m   1077\u001B[39m     error_class = \u001B[38;5;28mself\u001B[39m.exceptions.from_code(error_code)\n\u001B[32m-> \u001B[39m\u001B[32m1078\u001B[39m     \u001B[38;5;28;01mraise\u001B[39;00m error_class(parsed_response, operation_name)\n\u001B[32m   1079\u001B[39m \u001B[38;5;28;01melse\u001B[39;00m:\n\u001B[32m   1080\u001B[39m     \u001B[38;5;28;01mreturn\u001B[39;00m parsed_response\n",
      "\u001B[31mNoSuchEntityException\u001B[39m: An error occurred (NoSuchEntity) when calling the DetachRolePolicy operation: The role with name BedrockCustomizationRole cannot be found."
     ]
    }
   ],
   "execution_count": 28
  },
  {
   "metadata": {},
   "cell_type": "code",
   "outputs": [],
   "execution_count": null,
   "source": [
    "# clean up s3\n",
    "s3_resource = boto3.resource(\"s3\")\n",
    "bucket = s3_resource.Bucket(bucket_name)\n",
    "bucket.objects.all().delete()\n",
    "bucket.delete()\n"
   ],
   "id": "fa53b7d622adbdd5"
  },
  {
   "metadata": {},
   "cell_type": "code",
   "outputs": [],
   "execution_count": null,
   "source": [
    "# clean up custom models\n",
    "bedrock.delete_custom_model(\n",
    "    modelIdentifier=custom_model_id\n",
    ")\n",
    "print(f\"Deleted custom model '{custom_model_id}'\")"
   ],
   "id": "6defd228228eb743"
  },
  {
   "metadata": {},
   "cell_type": "code",
   "outputs": [],
   "execution_count": null,
   "source": "",
   "id": "c96bc6f48fb60348"
  }
 ],
 "metadata": {
  "kernelspec": {
   "name": "python3",
   "language": "python",
   "display_name": "Python 3 (ipykernel)"
  }
 },
 "nbformat": 4,
 "nbformat_minor": 5
}
